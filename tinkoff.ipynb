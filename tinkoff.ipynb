{
 "cells": [
  {
   "cell_type": "markdown",
   "source": [
    "## Обучение модели\n",
    "Введите название для сохранения модели (можно обучить много моделей)"
   ],
   "metadata": {
    "collapsed": false,
    "pycharm": {
     "name": "#%% md\n"
    }
   }
  },
  {
   "cell_type": "code",
   "execution_count": 7,
   "id": "9b2a2995",
   "metadata": {
    "pycharm": {
     "name": "#%%\n"
    }
   },
   "outputs": [],
   "source": [
    "import re\n",
    "\n",
    "data = open('ml.txt', 'r', encoding='utf-8').read() # Можно было бы вводить файл через инпут, но тут просто файл с текстом из первой главы моей дипломной работы. Здесь можно вставить любой текстовый файл на кириллице.\n",
    "reg = re.compile('[^а-яА-Я ]')\n",
    "data = reg.sub('', data).lower()\n",
    "data = data.split()\n",
    "\n",
    "def make_ngram(data, n):\n",
    "    ngrams_array = []\n",
    "    for i in range(len(data) - (n - 1)):\n",
    "        ngram = \" \".join(data[i:(i+n)])\n",
    "        ngrams_array.append(ngram)\n",
    "    return ngrams_array\n",
    "n = 2\n",
    "ngrams = make_ngram(data, n)\n",
    "ngram_dict = {}\n",
    "\n",
    "for i in range(len(ngrams)-1):\n",
    "    if ngrams[i] in ngram_dict:\n",
    "        array = ngram_dict[ngrams[i]]\n",
    "    else:\n",
    "        array = []\n",
    "    array.append(ngrams[i+1].split()[n-1])\n",
    "    ngram_dict[ngrams[i]] = array\n",
    "\n",
    "for item in ngram_dict:\n",
    "    arr1 = ngram_dict[item]\n",
    "    arr2 = list(set(arr1))\n",
    "    temp = []\n",
    "    [temp.append((x, arr1.count(x) / len(arr1))) for x in arr2]\n",
    "    ngram_dict[item] = temp\n",
    "    \n",
    "def save(token):#сохраняем модель\n",
    "    name_file = str(input('Enter model save name'))\n",
    "    return np.save('{}.npy' .format(name_file), token) \n",
    "\n",
    "name_file = save(ngram_dict)"
   ]
  },
  {
   "cell_type": "markdown",
   "source": [
    "## Генератор\n",
    "Введите название модели, на основе которой будет работать генератор\n",
    "Затем введите количество слов для генерации"
   ],
   "metadata": {
    "collapsed": false,
    "pycharm": {
     "name": "#%% md\n"
    }
   }
  },
  {
   "cell_type": "code",
   "execution_count": 9,
   "id": "3bfa32f2",
   "metadata": {
    "pycharm": {
     "name": "#%%\n"
    }
   },
   "outputs": [
    {
     "name": "stdout",
     "output_type": "stream",
     "text": [
      "среднеквадратичное отклонение манхэттенское расстояниекритерий джини энтропийный критерий и другие такие метрикивычисляются \n"
     ]
    }
   ],
   "source": [
    "import re\n",
    "import numpy as np\n",
    "import random\n",
    "\n",
    "class Model(object):\n",
    "\n",
    "    def generate(self):\n",
    "        \n",
    "        #загрузка модели\n",
    "        name_file = str(input('введите название модели зарузки '))\n",
    "        read_dictionary = np.load('{}.npy' .format(name_file), allow_pickle=True).item() ###\n",
    "        \n",
    "        #генерация последовательности\n",
    "        sequence=''\n",
    "        length_text=int(input('введите длину генерируемой последовательности '))\n",
    "        for i in range(length_text):\n",
    "            if i==0:\n",
    "                elem_ahead = random.choice(list(read_dictionary.keys()))\n",
    "                sequence += elem_ahead\n",
    "                sequence += ' '\n",
    "            else:\n",
    "                temp = \" \".join(sequence.split()[-2:])\n",
    "                list1 = read_dictionary.setdefault(temp)\n",
    "                p = []\n",
    "                words = []\n",
    "                for item in list1:\n",
    "                    words.append(item[0])\n",
    "                    p.append(item[1])\n",
    "                \n",
    "                elem_now = np.random.choice(words, 1, p)[0]\n",
    "                sequence += elem_now\n",
    "                sequence += ' '\n",
    "        return sequence\n",
    "obj = Model()\n",
    "print(obj.generate())"
   ]
  }
 ],
 "metadata": {
  "kernelspec": {
   "display_name": "Python 3 (ipykernel)",
   "language": "python",
   "name": "python3"
  },
  "language_info": {
   "codemirror_mode": {
    "name": "ipython",
    "version": 3
   },
   "file_extension": ".py",
   "mimetype": "text/x-python",
   "name": "python",
   "nbconvert_exporter": "python",
   "pygments_lexer": "ipython3",
   "version": "3.9.12"
  }
 },
 "nbformat": 4,
 "nbformat_minor": 5
}