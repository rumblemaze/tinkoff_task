{
 "cells": [
  {
   "cell_type": "code",
   "execution_count": 1,
   "id": "6524ef25",
   "metadata": {
    "pycharm": {
     "name": "#%%\n"
    }
   },
   "outputs": [
    {
     "data": {
      "text/plain": "{'One': [('3', 0.5), ('1', 0.16666666666666666), ('2', 0.3333333333333333)],\n 'Two': [('5', 0.2), ('4', 0.2), ('1', 0.6)]}"
     },
     "execution_count": 1,
     "metadata": {},
     "output_type": "execute_result"
    }
   ],
   "source": [
    "diction = {'One' : ['3', '3', '3', '2', '2', '1'], 'Two' : ['1', '1', '1', '5', '4']}\n",
    "for item in diction:\n",
    "    arr1 = diction[item]\n",
    "    arr2 = list(set(arr1))\n",
    "    temp = []\n",
    "    [temp.append((x, arr1.count(x) / len(arr1))) for x in arr2]\n",
    "    diction[item] = temp\n",
    "diction"
   ]
  },
  {
   "cell_type": "code",
   "execution_count": 2,
   "id": "9685c9ae",
   "metadata": {
    "pycharm": {
     "name": "#%%\n"
    }
   },
   "outputs": [
    {
     "data": {
      "text/plain": "(1, 2)"
     },
     "execution_count": 2,
     "metadata": {},
     "output_type": "execute_result"
    }
   ],
   "source": [
    "a = [(1, 2), (1, 3)]\n",
    "a[:][0]"
   ]
  },
  {
   "cell_type": "code",
   "execution_count": 3,
   "id": "0abdaf6e",
   "metadata": {
    "pycharm": {
     "name": "#%%\n"
    }
   },
   "outputs": [
    {
     "ename": "FileNotFoundError",
     "evalue": "[Errno 2] No such file or directory: 'model-ru-m.npy'",
     "output_type": "error",
     "traceback": [
      "\u001B[1;31m---------------------------------------------------------------------------\u001B[0m",
      "\u001B[1;31mFileNotFoundError\u001B[0m                         Traceback (most recent call last)",
      "\u001B[1;32m~\\AppData\\Local\\Temp/ipykernel_1988/2575219258.py\u001B[0m in \u001B[0;36m<module>\u001B[1;34m\u001B[0m\n\u001B[0;32m      1\u001B[0m \u001B[1;32mimport\u001B[0m \u001B[0mnumpy\u001B[0m \u001B[1;32mas\u001B[0m \u001B[0mnp\u001B[0m\u001B[1;33m\u001B[0m\u001B[1;33m\u001B[0m\u001B[0m\n\u001B[1;32m----> 2\u001B[1;33m \u001B[0mx\u001B[0m \u001B[1;33m=\u001B[0m \u001B[0mnp\u001B[0m\u001B[1;33m.\u001B[0m\u001B[0mload\u001B[0m\u001B[1;33m(\u001B[0m\u001B[1;34m'model-ru-m.npy'\u001B[0m\u001B[1;33m)\u001B[0m\u001B[1;33m\u001B[0m\u001B[1;33m\u001B[0m\u001B[0m\n\u001B[0m",
      "\u001B[1;32mD:\\Install\\Anaconda3\\lib\\site-packages\\numpy\\lib\\npyio.py\u001B[0m in \u001B[0;36mload\u001B[1;34m(file, mmap_mode, allow_pickle, fix_imports, encoding)\u001B[0m\n\u001B[0;32m    415\u001B[0m             \u001B[0mown_fid\u001B[0m \u001B[1;33m=\u001B[0m \u001B[1;32mFalse\u001B[0m\u001B[1;33m\u001B[0m\u001B[1;33m\u001B[0m\u001B[0m\n\u001B[0;32m    416\u001B[0m         \u001B[1;32melse\u001B[0m\u001B[1;33m:\u001B[0m\u001B[1;33m\u001B[0m\u001B[1;33m\u001B[0m\u001B[0m\n\u001B[1;32m--> 417\u001B[1;33m             \u001B[0mfid\u001B[0m \u001B[1;33m=\u001B[0m \u001B[0mstack\u001B[0m\u001B[1;33m.\u001B[0m\u001B[0menter_context\u001B[0m\u001B[1;33m(\u001B[0m\u001B[0mopen\u001B[0m\u001B[1;33m(\u001B[0m\u001B[0mos_fspath\u001B[0m\u001B[1;33m(\u001B[0m\u001B[0mfile\u001B[0m\u001B[1;33m)\u001B[0m\u001B[1;33m,\u001B[0m \u001B[1;34m\"rb\"\u001B[0m\u001B[1;33m)\u001B[0m\u001B[1;33m)\u001B[0m\u001B[1;33m\u001B[0m\u001B[1;33m\u001B[0m\u001B[0m\n\u001B[0m\u001B[0;32m    418\u001B[0m             \u001B[0mown_fid\u001B[0m \u001B[1;33m=\u001B[0m \u001B[1;32mTrue\u001B[0m\u001B[1;33m\u001B[0m\u001B[1;33m\u001B[0m\u001B[0m\n\u001B[0;32m    419\u001B[0m \u001B[1;33m\u001B[0m\u001B[0m\n",
      "\u001B[1;31mFileNotFoundError\u001B[0m: [Errno 2] No such file or directory: 'model-ru-m.npy'"
     ]
    }
   ],
   "source": [
    "import numpy as np\n",
    "x = np.load('model-ru-m.npy')"
   ]
  },
  {
   "cell_type": "code",
   "execution_count": 4,
   "id": "9b2a2995",
   "metadata": {
    "pycharm": {
     "name": "#%%\n"
    }
   },
   "outputs": [],
   "source": [
    "import re\n",
    "import numpy as np\n",
    "\n",
    "data = open('text_training_monetochka.txt', 'r', encoding='utf-8').read()\n",
    "reg = re.compile('[^а-яА-Я ]')\n",
    "data = reg.sub('', data).lower()\n",
    "data = data.split()\n",
    "\n",
    "def make_ngram(data, n):\n",
    "    ngrams_array = []\n",
    "    for i in range(len(data) - (n - 1)):\n",
    "        ngram = \" \".join(data[i:(i+n)])\n",
    "        ngrams_array.append(ngram)\n",
    "    return ngrams_array\n",
    "n = 2\n",
    "ngrams = make_ngram(data, n)\n",
    "ngram_dict = {}\n",
    "\n",
    "for i in range(len(ngrams)-1):\n",
    "    if ngrams[i] in ngram_dict:\n",
    "        array = ngram_dict[ngrams[i]]\n",
    "    else:\n",
    "        array = []\n",
    "    array.append(ngrams[i+1].split()[n-1])\n",
    "    ngram_dict[ngrams[i]] = array\n",
    "\n",
    "for item in ngram_dict:\n",
    "    arr1 = ngram_dict[item]\n",
    "    arr2 = list(set(arr1))\n",
    "    temp = []\n",
    "    [temp.append((x, arr1.count(x) / len(arr1))) for x in arr2]\n",
    "    ngram_dict[item] = temp\n",
    "    \n",
    "def save(token):#сохраняем модель\n",
    "    name_file = str(input('Enter model save name'))\n",
    "    return np.save('{}.npy' .format(name_file), token) \n",
    "\n",
    "name_file = save(ngram_dict)"
   ]
  },
  {
   "cell_type": "code",
   "execution_count": 5,
   "id": "3bfa32f2",
   "metadata": {
    "pycharm": {
     "name": "#%%\n"
    }
   },
   "outputs": [
    {
     "name": "stdout",
     "output_type": "stream",
     "text": [
      "болит голова вокруг так много клевых идей суицид инцест другие слова надо пробовать скорей я понимаю все на свете любят деньги \n"
     ]
    }
   ],
   "source": [
    "import re\n",
    "import numpy as np\n",
    "import random\n",
    "\n",
    "class Model(object):\n",
    "    \n",
    "    def fit(self):\n",
    "        name_training = str(input('введите название файла train '))\n",
    "        f = open('{}'.format(name_training))\n",
    "        text = ''\n",
    "        for line in f.readlines():\n",
    "            text+=str(line)\n",
    "        f.close()\n",
    "        \n",
    "        #форматирование текста\n",
    "        text = text.lower()\n",
    "        text = text.strip()\n",
    "        text = re.split(\"[^a-zа-яё]+\",text)#удаление неалфавитных символов\n",
    "        \n",
    "        #токенизация\n",
    "        dictionary = {}\n",
    "        for i in range(len(text)-1):\n",
    "            if dictionary.get(text[i],0):\n",
    "                pointer = dictionary.get(text[i])\n",
    "                pointer.append(text[i+1])\n",
    "                dictionary[text[i]]=pointer\n",
    "            else:\n",
    "                dictionary[text[i]]=[text[i+1]]\n",
    "                \n",
    "        #сохранeние модели\n",
    "        name_file = str(input('введите название модели сохранения '))\n",
    "        np.save('{}.npy' .format(name_file), dictionary)\n",
    "\n",
    "    def generate(self):\n",
    "        \n",
    "        #загрузка модели\n",
    "        name_file = str(input('введите название модели зарузки '))\n",
    "        read_dictionary = np.load('{}.npy' .format(name_file), allow_pickle=True).item() ###\n",
    "        \n",
    "        #генерация последовательности\n",
    "        sequence=''\n",
    "        length_text=int(input('введите длину генерируемой последовательности '))\n",
    "        for i in range(length_text):\n",
    "            if i==0:\n",
    "                elem_ahead = random.choice(list(read_dictionary.keys()))\n",
    "                sequence += elem_ahead\n",
    "                sequence += ' '\n",
    "            else:\n",
    "                temp = \" \".join(sequence.split()[-2:])\n",
    "                list1 = read_dictionary.setdefault(temp)\n",
    "                p = []\n",
    "                words = []\n",
    "                for item in list1:\n",
    "                    words.append(item[0])\n",
    "                    p.append(item[1])\n",
    "                \n",
    "                elem_now = np.random.choice(words, 1, p)[0]\n",
    "                sequence += elem_now\n",
    "                sequence += ' '\n",
    "        return sequence\n",
    "obj = Model()\n",
    "print(obj.generate())"
   ]
  },
  {
   "cell_type": "code",
   "execution_count": null,
   "outputs": [],
   "source": [
    "read_dictionary = np.load('{}.npy' .format(name_file), allow_pickle=True).item() ###\n",
    "\n",
    "elem_ahead = random.choice(list(read_dictionary.keys()))\n",
    "print(elem_ahead)\n",
    "\n",
    "list1 = read_dictionary.setdefault(elem_ahead)\n",
    "p = []\n",
    "words = []\n",
    "for item in list1:\n",
    "    words.append(item[0])\n",
    "    p.append(item[1])\n",
    "\n",
    "\n",
    "print(words)\n",
    "print(p)\n",
    "print(np.random.choice(words, 1, p))\n",
    "read_dictionary.setdefault(elem_ahead)"
   ],
   "metadata": {
    "collapsed": false,
    "pycharm": {
     "name": "#%%\n"
    }
   }
  },
  {
   "cell_type": "code",
   "execution_count": 89,
   "id": "61f2365c",
   "metadata": {
    "pycharm": {
     "name": "#%%\n"
    }
   },
   "outputs": [
    {
     "data": {
      "text/plain": [
       "'hello my name'"
      ]
     },
     "execution_count": 89,
     "metadata": {},
     "output_type": "execute_result"
    }
   ],
   "source": [
    "elem_ahead = 'hello my name'\n",
    "temp = \" \".join(elem_ahead.split()[-2:])\n",
    "elem_ahead"
   ]
  },
  {
   "cell_type": "code",
   "execution_count": null,
   "id": "24bcd715",
   "metadata": {
    "pycharm": {
     "name": "#%%\n"
    }
   },
   "outputs": [],
   "source": []
  },
  {
   "cell_type": "code",
   "execution_count": null,
   "id": "7d57f59e",
   "metadata": {
    "pycharm": {
     "name": "#%%\n"
    }
   },
   "outputs": [],
   "source": []
  }
 ],
 "metadata": {
  "kernelspec": {
   "display_name": "Python 3 (ipykernel)",
   "language": "python",
   "name": "python3"
  },
  "language_info": {
   "codemirror_mode": {
    "name": "ipython",
    "version": 3
   },
   "file_extension": ".py",
   "mimetype": "text/x-python",
   "name": "python",
   "nbconvert_exporter": "python",
   "pygments_lexer": "ipython3",
   "version": "3.9.12"
  }
 },
 "nbformat": 4,
 "nbformat_minor": 5
}